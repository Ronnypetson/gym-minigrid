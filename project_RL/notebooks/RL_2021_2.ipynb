{
  "nbformat": 4,
  "nbformat_minor": 0,
  "metadata": {
    "colab": {
      "name": "RL_2021.2.ipynb",
      "provenance": [],
      "collapsed_sections": []
    },
    "kernelspec": {
      "name": "python3",
      "display_name": "Python 3"
    },
    "language_info": {
      "name": "python"
    }
  },
  "cells": [
    {
      "cell_type": "code",
      "metadata": {
        "id": "2HYYv0LbcPJK"
      },
      "source": [
        "base_dir = 'drive/MyDrive/Unicamp/Reinforcement Learning - 2021.2/gym-minigrid/'"
      ],
      "execution_count": 14,
      "outputs": []
    },
    {
      "cell_type": "code",
      "metadata": {
        "id": "G7i7hFsvhw4i"
      },
      "source": [
        "!apt-get install x11-utils > /dev/null 2>&1 \n",
        "!pip install pyglet > /dev/null 2>&1 \n",
        "!apt-get install -y xvfb python-opengl > /dev/null 2>&1"
      ],
      "execution_count": 20,
      "outputs": []
    },
    {
      "cell_type": "code",
      "metadata": {
        "id": "v3aluAkAh5hz"
      },
      "source": [
        "!pip install gym pyvirtualdisplay > /dev/null 2>&1"
      ],
      "execution_count": 21,
      "outputs": []
    },
    {
      "cell_type": "code",
      "metadata": {
        "id": "KufHbc7Ah86c"
      },
      "source": [
        "import gym\n",
        "import numpy as np\n",
        "import matplotlib.pyplot as plt\n",
        "from IPython import display as ipythondisplay"
      ],
      "execution_count": 22,
      "outputs": []
    },
    {
      "cell_type": "code",
      "metadata": {
        "colab": {
          "base_uri": "https://localhost:8080/"
        },
        "id": "2i_LBpTRiC0D",
        "outputId": "6cd448e2-645b-43c8-bc6c-50fd3dac3e5b"
      },
      "source": [
        "from pyvirtualdisplay import Display\n",
        "display = Display(visible=0, size=(400, 300))\n",
        "display.start()"
      ],
      "execution_count": 23,
      "outputs": [
        {
          "output_type": "execute_result",
          "data": {
            "text/plain": [
              "<pyvirtualdisplay.display.Display at 0x7f772e067750>"
            ]
          },
          "metadata": {},
          "execution_count": 23
        }
      ]
    },
    {
      "cell_type": "code",
      "metadata": {
        "id": "d8nEvNpxgDv3"
      },
      "source": [
        "import sys, os"
      ],
      "execution_count": 11,
      "outputs": []
    },
    {
      "cell_type": "code",
      "metadata": {
        "id": "jmMj2EsogF6l"
      },
      "source": [
        "sys.path.append(base_dir)\n",
        "# sys.path.append(os.path.join(os.path.dirname(__file__), base_dir))"
      ],
      "execution_count": 16,
      "outputs": []
    },
    {
      "cell_type": "code",
      "metadata": {
        "id": "Ug1gag0cgO6m"
      },
      "source": [
        "from project_RL.sarsa.sarsa_lambda_agent import SarsaLambda\n",
        "from gym_minigrid.wrappers import *\n",
        "from time import time"
      ],
      "execution_count": 17,
      "outputs": []
    },
    {
      "cell_type": "code",
      "metadata": {
        "id": "z0_R6z14curi"
      },
      "source": [
        "def train(env, hyperparameters):\n",
        "    \"\"\" Train a sarsa lambda agent in the requested environment\n",
        "\n",
        "    Arguments:\n",
        "        hyperparameters dictionary containing:\n",
        "            - env_name\n",
        "            - discount_rate\n",
        "            - learning_rate\n",
        "            - epsilon\n",
        "    \"\"\"\n",
        "    agent = SarsaLambda(env, hyperparameters['discount_rate'],\n",
        "                        hyperparameters['learning_rate'], hyperparameters['epsilon'])\n",
        "\n",
        "    # initialise variables for plotting purpose\n",
        "    step = 0\n",
        "\n",
        "    for episode in range(int(1e4)):\n",
        "        # reset environment before each episode\n",
        "        total_reward = 0.0\n",
        "\n",
        "        agent.init_eligibility_table()\n",
        "        observation = env.reset()\n",
        "        state = observation  # TODO: change it after decision regarding state\n",
        "        action = agent.get_new_action_e_greedly(state)\n",
        "        done = False\n",
        "\n",
        "        # env.render()\n",
        "        while not done:\n",
        "            observation, reward, done, info = env.step(action)\n",
        "            next_state = observation  # TODO: change it after decision regarding state\n",
        "            total_reward += reward\n",
        "            next_action = agent.get_new_action_e_greedly(next_state)\n",
        "\n",
        "            # t0 = time()\n",
        "            agent.update(state, action, reward, next_state, next_action, done)\n",
        "            # print(f'{time() - t0} elapsed.')\n",
        "\n",
        "            state = next_state\n",
        "            action = next_action\n",
        "            # env.render()\n",
        "            # print(\"a:\", action, \"i:\", step, \"reward:\", reward, \"info:\", info)\n",
        "            if done:\n",
        "                # env.render()\n",
        "                if episode % 100 == 0: # total_reward > 0.0 and \n",
        "                    # print(\"done?\", done, \"total reward:\", total_reward, \"info:\", info)\n",
        "                    play(env, agent)\n",
        "            step += 1\n",
        "    env.close()\n",
        "    return agent\n",
        "\n",
        "\n",
        "def play(env, agent, episodes=1):\n",
        "    for episode in range(episodes):\n",
        "        # reset environment before each episode\n",
        "        observation = env.reset()\n",
        "        state = observation  # TODO: change it after decision regarding state\n",
        "        action = agent.get_new_action_e_greedly(state)\n",
        "        done = False\n",
        "        total_reward = 0\n",
        "\n",
        "        prev_screen = env.render(mode='rgb_array')\n",
        "        plt.imshow(prev_screen)\n",
        "        while not done:\n",
        "            observation, reward, done, info = env.step(action)\n",
        "\n",
        "            screen = env.render(mode='rgb_array')\n",
        "            plt.imshow(screen)\n",
        "            ipythondisplay.clear_output(wait=True)\n",
        "            ipythondisplay.display(plt.gcf())\n",
        "\n",
        "            next_state = observation  # TODO: change it after decision regarding state\n",
        "            total_reward += reward\n",
        "            action = agent.get_new_action_e_greedly(next_state)\n",
        "        # print(f'Total reward: {total_reward}')"
      ],
      "execution_count": 28,
      "outputs": []
    },
    {
      "cell_type": "code",
      "metadata": {
        "colab": {
          "base_uri": "https://localhost:8080/",
          "height": 269
        },
        "id": "obcRJjM6hQGd",
        "outputId": "459607e8-488b-46fe-a719-d35690d37424"
      },
      "source": [
        "if __name__ == '__main__':\n",
        "    hyperparameters = {\n",
        "        # 'env_name': 'MiniGrid-Empty-8x8-v0',\n",
        "        # 'env_name': 'MiniGrid-FourRooms-v0',\n",
        "        # 'env_name': 'MiniGrid-Empty-Random-6x6-v0',\n",
        "        # 'env_name': 'MiniGrid-Empty-16x16-v0',\n",
        "        # 'env_name': 'MiniGrid-DistShift1-v0',\n",
        "        'env_name': 'MiniGrid-LavaGapS5-v0',\n",
        "        'discount_rate': 0.9,\n",
        "        'learning_rate': 0.01,\n",
        "        'epsilon': 0.3\n",
        "    }\n",
        "\n",
        "    env = gym.make(hyperparameters['env_name'])\n",
        "    agent = train(env, hyperparameters)"
      ],
      "execution_count": null,
      "outputs": [
        {
          "output_type": "display_data",
          "data": {
            "image/png": "[encoded data removed]",
            "text/plain": [
              "<Figure size 432x288 with 1 Axes>"
            ]
          },
          "metadata": {}
        }
      ]
    },
    {
      "cell_type": "code",
      "metadata": {
        "id": "GQzkpwbRhSRF"
      },
      "source": [
        ""
      ],
      "execution_count": null,
      "outputs": []
    }
  ]
}