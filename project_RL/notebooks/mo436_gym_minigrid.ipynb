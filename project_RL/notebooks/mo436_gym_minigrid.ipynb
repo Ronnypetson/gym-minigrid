{
  "nbformat": 4,
  "nbformat_minor": 0,
  "metadata": {
    "colab": {
      "name": "mo436-gym-minigrid.ipynb",
      "provenance": [],
      "collapsed_sections": []
    },
    "kernelspec": {
      "name": "python3",
      "display_name": "Python 3"
    },
    "language_info": {
      "name": "python"
    }
  },
  "cells": [
    {
      "cell_type": "markdown",
      "metadata": {
        "id": "oTce78yJBIQr"
      },
      "source": [
        "# Setup project\n"
      ]
    },
    {
      "cell_type": "markdown",
      "metadata": {
        "id": "LP25zIjVzhLN"
      },
      "source": [
        "### git clone"
      ]
    },
    {
      "cell_type": "code",
      "metadata": {
        "colab": {
          "base_uri": "https://localhost:8080/"
        },
        "id": "vIs_IWGJBHDw",
        "outputId": "00e08066-fa78-47ef-a9d1-768727123426"
      },
      "source": [
        "!git clone -b setup-for-pip https://github.com/Ronnypetson/gym-minigrid.git"
      ],
      "execution_count": 2,
      "outputs": [
        {
          "output_type": "stream",
          "name": "stdout",
          "text": [
            "Cloning into 'gym-minigrid'...\n",
            "remote: Enumerating objects: 2070, done.\u001b[K\n",
            "remote: Counting objects: 100% (245/245), done.\u001b[K\n",
            "remote: Compressing objects: 100% (187/187), done.\u001b[K\n",
            "remote: Total 2070 (delta 120), reused 167 (delta 55), pack-reused 1825\u001b[K\n",
            "Receiving objects: 100% (2070/2070), 11.35 MiB | 19.67 MiB/s, done.\n",
            "Resolving deltas: 100% (1374/1374), done.\n"
          ]
        }
      ]
    },
    {
      "cell_type": "code",
      "metadata": {
        "colab": {
          "base_uri": "https://localhost:8080/"
        },
        "id": "jXjKf9PWCc6J",
        "outputId": "e1732e59-bb87-406f-a97e-7a6349d0d2eb"
      },
      "source": [
        "!cd /content/gym-minigrid/\n",
        "!pip install /content/gym-minigrid/"
      ],
      "execution_count": 1,
      "outputs": [
        {
          "output_type": "stream",
          "name": "stdout",
          "text": [
            "Processing ./gym-minigrid\n",
            "\u001b[33m  DEPRECATION: A future pip version will change local packages to be built in-place without first copying to a temporary directory. We recommend you use --use-feature=in-tree-build to test your packages with this new behavior before it becomes the default.\n",
            "   pip 21.3 will remove support for this functionality. You can find discussion regarding this at https://github.com/pypa/pip/issues/7555.\u001b[0m\n",
            "Requirement already satisfied: gym>=0.9.6 in /usr/local/lib/python3.7/dist-packages (from gym-minigrid==1.0.2) (0.17.3)\n",
            "Requirement already satisfied: numpy>=1.15.0 in /usr/local/lib/python3.7/dist-packages (from gym-minigrid==1.0.2) (1.19.5)\n",
            "Requirement already satisfied: pyglet<=1.5.0,>=1.4.0 in /usr/local/lib/python3.7/dist-packages (from gym>=0.9.6->gym-minigrid==1.0.2) (1.5.0)\n",
            "Requirement already satisfied: scipy in /usr/local/lib/python3.7/dist-packages (from gym>=0.9.6->gym-minigrid==1.0.2) (1.4.1)\n",
            "Requirement already satisfied: cloudpickle<1.7.0,>=1.2.0 in /usr/local/lib/python3.7/dist-packages (from gym>=0.9.6->gym-minigrid==1.0.2) (1.3.0)\n",
            "Requirement already satisfied: future in /usr/local/lib/python3.7/dist-packages (from pyglet<=1.5.0,>=1.4.0->gym>=0.9.6->gym-minigrid==1.0.2) (0.16.0)\n",
            "Building wheels for collected packages: gym-minigrid\n",
            "  Building wheel for gym-minigrid (setup.py) ... \u001b[?25l\u001b[?25hdone\n",
            "  Created wheel for gym-minigrid: filename=gym_minigrid-1.0.2-py3-none-any.whl size=55120 sha256=837077c6387ac08c1137513cbacff173f7117cc5807e7f74c842b8610cc9913c\n",
            "  Stored in directory: /root/.cache/pip/wheels/54/28/d0/515a5f82a05a1e4e593d8643d907d0765dc08f67bb92091c50\n",
            "Successfully built gym-minigrid\n",
            "Installing collected packages: gym-minigrid\n",
            "  Attempting uninstall: gym-minigrid\n",
            "    Found existing installation: gym-minigrid 1.0.2\n",
            "    Uninstalling gym-minigrid-1.0.2:\n",
            "      Successfully uninstalled gym-minigrid-1.0.2\n",
            "Successfully installed gym-minigrid-1.0.2\n"
          ]
        }
      ]
    },
    {
      "cell_type": "code",
      "metadata": {
        "id": "bGlhbcRhDLEQ"
      },
      "source": [
        "from gym_minigrid.wrappers import *\n",
        "from project_RL.linear_sarsa.sarsa_lambda_agent import LinearSarsaLambda\n",
        "import project_RL.linear_sarsa.train as train\n",
        "\n",
        "hyperparameters = {\n",
        "    # 'env_name': 'MiniGrid-Empty-5x5-v0',\n",
        "    'env_name': 'MiniGrid-DoorKeyObst-6x6-v0',\n",
        "    'discount_rate': 0.9,\n",
        "    'learning_rate': 1e-3,\n",
        "    'lambda': 0.6,\n",
        "    'epsilon': 0.3,\n",
        "    'n0': 3000\n",
        "}\n",
        "\n",
        "env = gym.make(hyperparameters['env_name'])\n",
        "agent = train.train(env, hyperparameters, num_episodes=int(3e5))\n",
        "#play(env, agent, linear_parse_observation_to_state, episodes=10)"
      ],
      "execution_count": null,
      "outputs": []
    },
    {
      "cell_type": "code",
      "metadata": {
        "id": "gwYTxOL1MEXv"
      },
      "source": [
        "# plot('log_MiniGrid-Dynamic-Obstacles-6x6-v0_21-10-24-22-32-22', 1000)\n",
        "from google.colab import files\n",
        "# export mydate=`date +%Y-%m-%d-%H-%M-%S`\n",
        "!zip -m minigrid.zip /content/*MiniGrid*\n",
        "files.download('minigrid.zip')\n"
      ],
      "execution_count": null,
      "outputs": []
    }
  ]
}